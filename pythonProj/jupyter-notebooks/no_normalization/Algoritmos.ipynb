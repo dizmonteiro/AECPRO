{
 "cells": [
  {
   "cell_type": "markdown",
   "metadata": {},
   "source": [
    "# Algoritmos"
   ]
  },
  {
   "cell_type": "code",
   "execution_count": 8,
   "metadata": {},
   "outputs": [],
   "source": [
    "%run -i \"../../algorithms/LogisticRegression.py\"\n",
    "%run -i \"../../algorithms/SupportVectorMachines.py\"\n",
    "%run -i \"../../algorithms/knn.py\"\n",
    "%run -i \"../../algorithms/neuralNetwork.py\"\n",
    "%run -i \"../../algorithms/decisionTree.py\"\n",
    "%run -i \"../../algorithms/ensembleLearner.py\""
   ]
  },
  {
   "cell_type": "markdown",
   "metadata": {},
   "source": [
    "#### Carregar datasets"
   ]
  },
  {
   "cell_type": "code",
   "execution_count": 2,
   "metadata": {},
   "outputs": [],
   "source": [
    "training = '../../data/no_normalization/processedDataTraining.csv'\n",
    "test = '../../data/no_normalization/processedDataTest.csv'"
   ]
  },
  {
   "cell_type": "markdown",
   "metadata": {},
   "source": [
    "### Logistic Regression"
   ]
  },
  {
   "cell_type": "code",
   "execution_count": 3,
   "metadata": {},
   "outputs": [
    {
     "name": "stdout",
     "output_type": "stream",
     "text": [
      "[[11989   446]\n",
      " [ 2846  1000]]\n",
      "              precision    recall  f1-score   support\n",
      "\n",
      "           0       0.81      0.96      0.88     12435\n",
      "           1       0.69      0.26      0.38      3846\n",
      "\n",
      "    accuracy                           0.80     16281\n",
      "   macro avg       0.75      0.61      0.63     16281\n",
      "weighted avg       0.78      0.80      0.76     16281\n",
      "\n",
      "0.7978011178674529\n"
     ]
    }
   ],
   "source": [
    "lr = _LogisticRegression(training, test)\n",
    "lr.fit()\n",
    "lr.predict()"
   ]
  },
  {
   "cell_type": "markdown",
   "metadata": {},
   "source": [
    "### Support Vector Machine"
   ]
  },
  {
   "cell_type": "code",
   "execution_count": 4,
   "metadata": {},
   "outputs": [
    {
     "name": "stdout",
     "output_type": "stream",
     "text": [
      "[[12415    20]\n",
      " [ 3259   587]]\n",
      "              precision    recall  f1-score   support\n",
      "\n",
      "           0       0.79      1.00      0.88     12435\n",
      "           1       0.97      0.15      0.26      3846\n",
      "\n",
      "    accuracy                           0.80     16281\n",
      "   macro avg       0.88      0.58      0.57     16281\n",
      "weighted avg       0.83      0.80      0.74     16281\n",
      "\n"
     ]
    }
   ],
   "source": [
    "# VER PCA\n",
    "svm = SupportVectorMachines(training, test)\n",
    "svm.fit()\n",
    "svm.predict()"
   ]
  },
  {
   "cell_type": "markdown",
   "metadata": {},
   "source": [
    "### K-Nearest Neighboor"
   ]
  },
  {
   "cell_type": "code",
   "execution_count": 5,
   "metadata": {},
   "outputs": [
    {
     "name": "stdout",
     "output_type": "stream",
     "text": [
      "[[12273   162]\n",
      " [ 3046   800]]\n",
      "              precision    recall  f1-score   support\n",
      "\n",
      "           0       0.80      0.99      0.88     12435\n",
      "           1       0.83      0.21      0.33      3846\n",
      "\n",
      "    accuracy                           0.80     16281\n",
      "   macro avg       0.82      0.60      0.61     16281\n",
      "weighted avg       0.81      0.80      0.75     16281\n",
      "\n"
     ]
    }
   ],
   "source": [
    "knn = KNN(training, test)\n",
    "knn.fit(20)\n",
    "knn.predict()"
   ]
  },
  {
   "cell_type": "markdown",
   "metadata": {},
   "source": [
    "### Neural Networks"
   ]
  },
  {
   "cell_type": "code",
   "execution_count": 6,
   "metadata": {},
   "outputs": [
    {
     "name": "stdout",
     "output_type": "stream",
     "text": [
      "[[12308   127]\n",
      " [ 3274   572]]\n",
      "              precision    recall  f1-score   support\n",
      "\n",
      "           0       0.79      0.99      0.88     12435\n",
      "           1       0.82      0.15      0.25      3846\n",
      "\n",
      "    accuracy                           0.79     16281\n",
      "   macro avg       0.80      0.57      0.57     16281\n",
      "weighted avg       0.80      0.79      0.73     16281\n",
      "\n"
     ]
    }
   ],
   "source": [
    "nn = NeuralNetwork(training, test,\"\")\n",
    "nn.fit()\n",
    "nn.predict()"
   ]
  },
  {
   "cell_type": "markdown",
   "metadata": {},
   "source": [
    "### Decision Tree"
   ]
  },
  {
   "cell_type": "code",
   "execution_count": 7,
   "metadata": {},
   "outputs": [
    {
     "name": "stdout",
     "output_type": "stream",
     "text": [
      "[[10799  1636]\n",
      " [ 1468  2378]]\n",
      "              precision    recall  f1-score   support\n",
      "\n",
      "           0       0.88      0.87      0.87     12435\n",
      "           1       0.59      0.62      0.61      3846\n",
      "\n",
      "    accuracy                           0.81     16281\n",
      "   macro avg       0.74      0.74      0.74     16281\n",
      "weighted avg       0.81      0.81      0.81     16281\n",
      "\n"
     ]
    }
   ],
   "source": [
    "dt = DecisionTree(training, test)\n",
    "dt.fit()\n",
    "dt.predict()"
   ]
  },
  {
   "cell_type": "markdown",
   "metadata": {},
   "source": [
    "## Ensemble Learner"
   ]
  },
  {
   "cell_type": "code",
   "execution_count": 9,
   "metadata": {},
   "outputs": [
    {
     "name": "stdout",
     "output_type": "stream",
     "text": [
      "[[10867  1568]\n",
      " [ 1451  2395]]\n",
      "              precision    recall  f1-score   support\n",
      "\n",
      "           0       0.88      0.87      0.88     12435\n",
      "           1       0.60      0.62      0.61      3846\n",
      "\n",
      "    accuracy                           0.81     16281\n",
      "   macro avg       0.74      0.75      0.75     16281\n",
      "weighted avg       0.82      0.81      0.82     16281\n",
      "\n"
     ]
    }
   ],
   "source": [
    "el = EnsembleLearner(training, test)\n",
    "el.fit()\n",
    "el.predict()"
   ]
  },
  {
   "cell_type": "code",
   "execution_count": null,
   "metadata": {},
   "outputs": [],
   "source": []
  }
 ],
 "metadata": {
  "kernelspec": {
   "display_name": "Python 3",
   "language": "python",
   "name": "python3"
  },
  "language_info": {
   "codemirror_mode": {
    "name": "ipython",
    "version": 3
   },
   "file_extension": ".py",
   "mimetype": "text/x-python",
   "name": "python",
   "nbconvert_exporter": "python",
   "pygments_lexer": "ipython3",
   "version": "3.6.12"
  }
 },
 "nbformat": 4,
 "nbformat_minor": 4
}

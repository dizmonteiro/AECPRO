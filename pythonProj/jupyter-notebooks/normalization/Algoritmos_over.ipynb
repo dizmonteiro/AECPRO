{
 "cells": [
  {
   "cell_type": "markdown",
   "metadata": {},
   "source": [
    "# Algoritmos"
   ]
  },
  {
   "cell_type": "code",
   "execution_count": 1,
   "metadata": {},
   "outputs": [],
   "source": [
    "%run -i \"../../algorithms/LogisticRegression.py\"\n",
    "%run -i \"../../algorithms/SupportVectorMachines.py\"\n",
    "%run -i \"../../algorithms/knn.py\"\n",
    "%run -i \"../../algorithms/neuralNetwork.py\"\n",
    "%run -i \"../../algorithms/decisionTree.py\"\n",
    "%run -i \"../../algorithms/ensembleLearner.py\"\n",
    "%run -i \"../../algorithms/ensembleLearner.py\""
   ]
  },
  {
   "cell_type": "markdown",
   "metadata": {},
   "source": [
    "#### Carregar datasets"
   ]
  },
  {
   "cell_type": "code",
   "execution_count": 2,
   "metadata": {},
   "outputs": [],
   "source": [
    "training = '../../data/normalization/processedDataTraining_over.csv'\n",
    "test = '../../data/normalization/processedDataTest.csv'"
   ]
  },
  {
   "cell_type": "markdown",
   "metadata": {},
   "source": [
    "### Logistic Regression"
   ]
  },
  {
   "cell_type": "code",
   "execution_count": 3,
   "metadata": {},
   "outputs": [
    {
     "name": "stdout",
     "output_type": "stream",
     "text": [
      "[[8304 4131]\n",
      " [ 431 3415]]\n",
      "              precision    recall  f1-score   support\n",
      "\n",
      "           0       0.95      0.67      0.78     12435\n",
      "           1       0.45      0.89      0.60      3846\n",
      "\n",
      "    accuracy                           0.72     16281\n",
      "   macro avg       0.70      0.78      0.69     16281\n",
      "weighted avg       0.83      0.72      0.74     16281\n",
      "\n",
      "0.7197960813217862\n"
     ]
    }
   ],
   "source": [
    "lr = _LogisticRegression(training, test)\n",
    "lr.fit()\n",
    "lr.predict()"
   ]
  },
  {
   "cell_type": "markdown",
   "metadata": {},
   "source": [
    "### Support Vector Machine"
   ]
  },
  {
   "cell_type": "code",
   "execution_count": 4,
   "metadata": {},
   "outputs": [
    {
     "name": "stdout",
     "output_type": "stream",
     "text": [
      "[[7900 4535]\n",
      " [ 398 3448]]\n",
      "              precision    recall  f1-score   support\n",
      "\n",
      "           0       0.95      0.64      0.76     12435\n",
      "           1       0.43      0.90      0.58      3846\n",
      "\n",
      "    accuracy                           0.70     16281\n",
      "   macro avg       0.69      0.77      0.67     16281\n",
      "weighted avg       0.83      0.70      0.72     16281\n",
      "\n"
     ]
    }
   ],
   "source": [
    "# VER PCA\n",
    "svm = SupportVectorMachines(training, test)\n",
    "svm.fit()\n",
    "svm.predict()"
   ]
  },
  {
   "cell_type": "markdown",
   "metadata": {},
   "source": [
    "### K-Nearest Neighboor"
   ]
  },
  {
   "cell_type": "code",
   "execution_count": 5,
   "metadata": {},
   "outputs": [
    {
     "name": "stdout",
     "output_type": "stream",
     "text": [
      "[[8450 3985]\n",
      " [ 515 3331]]\n",
      "              precision    recall  f1-score   support\n",
      "\n",
      "           0       0.94      0.68      0.79     12435\n",
      "           1       0.46      0.87      0.60      3846\n",
      "\n",
      "    accuracy                           0.72     16281\n",
      "   macro avg       0.70      0.77      0.69     16281\n",
      "weighted avg       0.83      0.72      0.74     16281\n",
      "\n"
     ]
    }
   ],
   "source": [
    "knn = KNN(training, test)\n",
    "knn.fit(20)\n",
    "knn.predict()"
   ]
  },
  {
   "cell_type": "markdown",
   "metadata": {},
   "source": [
    "### Neural Networks"
   ]
  },
  {
   "cell_type": "code",
   "execution_count": 6,
   "metadata": {},
   "outputs": [
    {
     "name": "stdout",
     "output_type": "stream",
     "text": [
      "[[6035 6400]\n",
      " [  65 3781]]\n",
      "              precision    recall  f1-score   support\n",
      "\n",
      "           0       0.99      0.49      0.65     12435\n",
      "           1       0.37      0.98      0.54      3846\n",
      "\n",
      "    accuracy                           0.60     16281\n",
      "   macro avg       0.68      0.73      0.60     16281\n",
      "weighted avg       0.84      0.60      0.62     16281\n",
      "\n"
     ]
    }
   ],
   "source": [
    "nn = NeuralNetwork(training, test,\"\")\n",
    "nn.fit()\n",
    "nn.predict()"
   ]
  },
  {
   "cell_type": "markdown",
   "metadata": {},
   "source": [
    "### Decision Tree"
   ]
  },
  {
   "cell_type": "code",
   "execution_count": 7,
   "metadata": {},
   "outputs": [
    {
     "name": "stdout",
     "output_type": "stream",
     "text": [
      "[[8969 3466]\n",
      " [1654 2192]]\n",
      "              precision    recall  f1-score   support\n",
      "\n",
      "           0       0.84      0.72      0.78     12435\n",
      "           1       0.39      0.57      0.46      3846\n",
      "\n",
      "    accuracy                           0.69     16281\n",
      "   macro avg       0.62      0.65      0.62     16281\n",
      "weighted avg       0.74      0.69      0.70     16281\n",
      "\n"
     ]
    }
   ],
   "source": [
    "dt = DecisionTree(training, test)\n",
    "dt.fit()\n",
    "dt.predict()"
   ]
  },
  {
   "cell_type": "markdown",
   "metadata": {},
   "source": [
    "### Ensemble Learner"
   ]
  },
  {
   "cell_type": "code",
   "execution_count": 8,
   "metadata": {},
   "outputs": [
    {
     "name": "stdout",
     "output_type": "stream",
     "text": [
      "[[7589 4846]\n",
      " [ 260 3586]]\n",
      "              precision    recall  f1-score   support\n",
      "\n",
      "           0       0.97      0.61      0.75     12435\n",
      "           1       0.43      0.93      0.58      3846\n",
      "\n",
      "    accuracy                           0.69     16281\n",
      "   macro avg       0.70      0.77      0.67     16281\n",
      "weighted avg       0.84      0.69      0.71     16281\n",
      "\n"
     ]
    }
   ],
   "source": [
    "el = EnsembleLearner(training, test)\n",
    "el.fit()\n",
    "el.predict()"
   ]
  },
  {
   "cell_type": "code",
   "execution_count": null,
   "metadata": {},
   "outputs": [],
   "source": []
  }
 ],
 "metadata": {
  "kernelspec": {
   "display_name": "Python 3",
   "language": "python",
   "name": "python3"
  },
  "language_info": {
   "codemirror_mode": {
    "name": "ipython",
    "version": 3
   },
   "file_extension": ".py",
   "mimetype": "text/x-python",
   "name": "python",
   "nbconvert_exporter": "python",
   "pygments_lexer": "ipython3",
   "version": "3.6.12"
  }
 },
 "nbformat": 4,
 "nbformat_minor": 4
}

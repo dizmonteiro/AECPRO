{
 "cells": [
  {
   "cell_type": "markdown",
   "metadata": {},
   "source": [
    "# Algoritmos"
   ]
  },
  {
   "cell_type": "code",
   "execution_count": 3,
   "metadata": {},
   "outputs": [],
   "source": [
    "%run -i \"../../algorithms/LogisticRegression.py\"\n",
    "%run -i \"../../algorithms/SupportVectorMachines.py\"\n",
    "%run -i \"../../algorithms/knn.py\"\n",
    "%run -i \"../../algorithms/neuralNetwork.py\"\n",
    "%run -i \"../../algorithms/decisionTree.py\"\n",
    "%run -i \"../../algorithms/ensembleLearner.py\""
   ]
  },
  {
   "cell_type": "markdown",
   "metadata": {},
   "source": [
    "#### Carregar datasets"
   ]
  },
  {
   "cell_type": "code",
   "execution_count": 6,
   "metadata": {},
   "outputs": [],
   "source": [
    "training = '../../data/normalization/processedDataTraining_under.csv'\n",
    "test = '../../data/normalization/processedDataTest.csv'"
   ]
  },
  {
   "cell_type": "markdown",
   "metadata": {},
   "source": [
    "### Logistic Regression"
   ]
  },
  {
   "cell_type": "code",
   "execution_count": 7,
   "metadata": {},
   "outputs": [
    {
     "name": "stdout",
     "output_type": "stream",
     "text": [
      "[[8385 4050]\n",
      " [ 449 3397]]\n",
      "              precision    recall  f1-score   support\n",
      "\n",
      "           0       0.95      0.67      0.79     12435\n",
      "           1       0.46      0.88      0.60      3846\n",
      "\n",
      "    accuracy                           0.72     16281\n",
      "   macro avg       0.70      0.78      0.70     16281\n",
      "weighted avg       0.83      0.72      0.74     16281\n",
      "\n",
      "0.7236656225047602\n"
     ]
    }
   ],
   "source": [
    "lr = _LogisticRegression(training, test)\n",
    "lr.fit()\n",
    "lr.predict()"
   ]
  },
  {
   "cell_type": "markdown",
   "metadata": {},
   "source": [
    "### Support Vector Machine"
   ]
  },
  {
   "cell_type": "code",
   "execution_count": 4,
   "metadata": {},
   "outputs": [
    {
     "name": "stdout",
     "output_type": "stream",
     "text": [
      "[[9348 3087]\n",
      " [ 762 3084]]\n",
      "              precision    recall  f1-score   support\n",
      "\n",
      "           0       0.92      0.75      0.83     12435\n",
      "           1       0.50      0.80      0.62      3846\n",
      "\n",
      "    accuracy                           0.76     16281\n",
      "   macro avg       0.71      0.78      0.72     16281\n",
      "weighted avg       0.82      0.76      0.78     16281\n",
      "\n"
     ]
    }
   ],
   "source": [
    "# VER PCA\n",
    "svm = SupportVectorMachines(training, test)\n",
    "svm.fit()\n",
    "svm.predict()"
   ]
  },
  {
   "cell_type": "markdown",
   "metadata": {},
   "source": [
    "### K-Nearest Neighboor"
   ]
  },
  {
   "cell_type": "code",
   "execution_count": 5,
   "metadata": {},
   "outputs": [
    {
     "name": "stdout",
     "output_type": "stream",
     "text": [
      "[[8793 3642]\n",
      " [ 546 3300]]\n",
      "              precision    recall  f1-score   support\n",
      "\n",
      "           0       0.94      0.71      0.81     12435\n",
      "           1       0.48      0.86      0.61      3846\n",
      "\n",
      "    accuracy                           0.74     16281\n",
      "   macro avg       0.71      0.78      0.71     16281\n",
      "weighted avg       0.83      0.74      0.76     16281\n",
      "\n"
     ]
    }
   ],
   "source": [
    "knn = KNN(training, test)\n",
    "knn.fit(20)\n",
    "knn.predict()"
   ]
  },
  {
   "cell_type": "markdown",
   "metadata": {},
   "source": [
    "### Neural Networks"
   ]
  },
  {
   "cell_type": "code",
   "execution_count": 6,
   "metadata": {},
   "outputs": [
    {
     "name": "stdout",
     "output_type": "stream",
     "text": [
      "[[8000 4435]\n",
      " [ 249 3597]]\n",
      "              precision    recall  f1-score   support\n",
      "\n",
      "           0       0.97      0.64      0.77     12435\n",
      "           1       0.45      0.94      0.61      3846\n",
      "\n",
      "    accuracy                           0.71     16281\n",
      "   macro avg       0.71      0.79      0.69     16281\n",
      "weighted avg       0.85      0.71      0.73     16281\n",
      "\n"
     ]
    },
    {
     "name": "stderr",
     "output_type": "stream",
     "text": [
      "C:\\Users\\Utilizador\\anaconda3\\envs\\env\\lib\\site-packages\\sklearn\\neural_network\\_multilayer_perceptron.py:585: ConvergenceWarning: Stochastic Optimizer: Maximum iterations (200) reached and the optimization hasn't converged yet.\n",
      "  % self.max_iter, ConvergenceWarning)\n"
     ]
    }
   ],
   "source": [
    "nn = NeuralNetwork(training, test,\"\")\n",
    "nn.fit()\n",
    "nn.predict()"
   ]
  },
  {
   "cell_type": "markdown",
   "metadata": {},
   "source": [
    "### Decision Tree"
   ]
  },
  {
   "cell_type": "code",
   "execution_count": 7,
   "metadata": {},
   "outputs": [
    {
     "name": "stdout",
     "output_type": "stream",
     "text": [
      "[[5921 6514]\n",
      " [ 725 3121]]\n",
      "              precision    recall  f1-score   support\n",
      "\n",
      "           0       0.89      0.48      0.62     12435\n",
      "           1       0.32      0.81      0.46      3846\n",
      "\n",
      "    accuracy                           0.56     16281\n",
      "   macro avg       0.61      0.64      0.54     16281\n",
      "weighted avg       0.76      0.56      0.58     16281\n",
      "\n"
     ]
    }
   ],
   "source": [
    "dt = DecisionTree(training, test)\n",
    "dt.fit()\n",
    "dt.predict()"
   ]
  },
  {
   "cell_type": "markdown",
   "metadata": {},
   "source": [
    "## Ensemble Learner"
   ]
  },
  {
   "cell_type": "code",
   "execution_count": 8,
   "metadata": {},
   "outputs": [
    {
     "name": "stderr",
     "output_type": "stream",
     "text": [
      "C:\\Users\\Utilizador\\anaconda3\\envs\\env\\lib\\site-packages\\sklearn\\neural_network\\_multilayer_perceptron.py:585: ConvergenceWarning: Stochastic Optimizer: Maximum iterations (200) reached and the optimization hasn't converged yet.\n",
      "  % self.max_iter, ConvergenceWarning)\n"
     ]
    },
    {
     "name": "stdout",
     "output_type": "stream",
     "text": [
      "[[7945 4490]\n",
      " [ 280 3566]]\n",
      "              precision    recall  f1-score   support\n",
      "\n",
      "           0       0.97      0.64      0.77     12435\n",
      "           1       0.44      0.93      0.60      3846\n",
      "\n",
      "    accuracy                           0.71     16281\n",
      "   macro avg       0.70      0.78      0.68     16281\n",
      "weighted avg       0.84      0.71      0.73     16281\n",
      "\n"
     ]
    }
   ],
   "source": [
    "el = EnsembleLearner(training, test)\n",
    "el.fit()\n",
    "el.predict()"
   ]
  },
  {
   "cell_type": "code",
   "execution_count": null,
   "metadata": {},
   "outputs": [],
   "source": []
  }
 ],
 "metadata": {
  "kernelspec": {
   "display_name": "Python 3",
   "language": "python",
   "name": "python3"
  },
  "language_info": {
   "codemirror_mode": {
    "name": "ipython",
    "version": 3
   },
   "file_extension": ".py",
   "mimetype": "text/x-python",
   "name": "python",
   "nbconvert_exporter": "python",
   "pygments_lexer": "ipython3",
   "version": "3.6.12"
  }
 },
 "nbformat": 4,
 "nbformat_minor": 4
}

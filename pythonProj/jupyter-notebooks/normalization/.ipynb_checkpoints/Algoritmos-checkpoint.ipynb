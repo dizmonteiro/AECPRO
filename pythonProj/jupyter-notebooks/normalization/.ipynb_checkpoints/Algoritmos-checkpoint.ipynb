{
 "cells": [
  {
   "cell_type": "markdown",
   "metadata": {},
   "source": [
    "# Algoritmos"
   ]
  },
  {
   "cell_type": "code",
   "execution_count": 1,
   "metadata": {},
   "outputs": [],
   "source": [
    "%run -i \"../../algorithms/LogisticRegression.py\"\n",
    "%run -i \"../../algorithms/SupportVectorMachines.py\"\n",
    "%run -i \"../../algorithms/knn.py\"\n",
    "%run -i \"../../algorithms/neuralNetwork.py\"\n",
    "%run -i \"../../algorithms/decisionTree.py\"\n",
    "%run -i \"../../algorithms/ensembleLearner.py\""
   ]
  },
  {
   "cell_type": "markdown",
   "metadata": {},
   "source": [
    "#### Carregar datasets"
   ]
  },
  {
   "cell_type": "code",
   "execution_count": 2,
   "metadata": {},
   "outputs": [],
   "source": [
    "training = '../../data/normalization/processedDataTraining.csv'\n",
    "test = '../../data/normalization/processedDataTest.csv'"
   ]
  },
  {
   "cell_type": "markdown",
   "metadata": {},
   "source": [
    "### Logistic Regression"
   ]
  },
  {
   "cell_type": "code",
   "execution_count": 3,
   "metadata": {},
   "outputs": [
    {
     "name": "stdout",
     "output_type": "stream",
     "text": [
      "[[12432     3]\n",
      " [ 3729   117]]\n",
      "              precision    recall  f1-score   support\n",
      "\n",
      "           0       0.77      1.00      0.87     12435\n",
      "           1       0.97      0.03      0.06      3846\n",
      "\n",
      "    accuracy                           0.77     16281\n",
      "   macro avg       0.87      0.52      0.46     16281\n",
      "weighted avg       0.82      0.77      0.68     16281\n",
      "\n",
      "0.7707757508752534\n"
     ]
    }
   ],
   "source": [
    "lr = _LogisticRegression(training, test)\n",
    "lr.fit()\n",
    "lr.predict()"
   ]
  },
  {
   "cell_type": "markdown",
   "metadata": {},
   "source": [
    "### Support Vector Machine"
   ]
  },
  {
   "cell_type": "code",
   "execution_count": 4,
   "metadata": {},
   "outputs": [
    {
     "name": "stdout",
     "output_type": "stream",
     "text": [
      "[[11390  1045]\n",
      " [ 1593  2253]]\n",
      "              precision    recall  f1-score   support\n",
      "\n",
      "           0       0.88      0.92      0.90     12435\n",
      "           1       0.68      0.59      0.63      3846\n",
      "\n",
      "    accuracy                           0.84     16281\n",
      "   macro avg       0.78      0.75      0.76     16281\n",
      "weighted avg       0.83      0.84      0.83     16281\n",
      "\n"
     ]
    }
   ],
   "source": [
    "# VER PCA\n",
    "svm = SupportVectorMachines(training, test)\n",
    "svm.fit()\n",
    "svm.predict()"
   ]
  },
  {
   "cell_type": "markdown",
   "metadata": {},
   "source": [
    "### K-Nearest Neighboor"
   ]
  },
  {
   "cell_type": "code",
   "execution_count": 5,
   "metadata": {},
   "outputs": [
    {
     "name": "stdout",
     "output_type": "stream",
     "text": [
      "[[10788  1647]\n",
      " [ 1373  2473]]\n",
      "              precision    recall  f1-score   support\n",
      "\n",
      "           0       0.89      0.87      0.88     12435\n",
      "           1       0.60      0.64      0.62      3846\n",
      "\n",
      "    accuracy                           0.81     16281\n",
      "   macro avg       0.74      0.76      0.75     16281\n",
      "weighted avg       0.82      0.81      0.82     16281\n",
      "\n"
     ]
    }
   ],
   "source": [
    "knn = KNN(training, test)\n",
    "knn.fit(20)\n",
    "knn.predict()"
   ]
  },
  {
   "cell_type": "markdown",
   "metadata": {},
   "source": [
    "### Neural Networks"
   ]
  },
  {
   "cell_type": "code",
   "execution_count": 6,
   "metadata": {},
   "outputs": [
    {
     "name": "stdout",
     "output_type": "stream",
     "text": [
      "[[8200 4235]\n",
      " [ 236 3610]]\n",
      "              precision    recall  f1-score   support\n",
      "\n",
      "           0       0.97      0.66      0.79     12435\n",
      "           1       0.46      0.94      0.62      3846\n",
      "\n",
      "    accuracy                           0.73     16281\n",
      "   macro avg       0.72      0.80      0.70     16281\n",
      "weighted avg       0.85      0.73      0.75     16281\n",
      "\n"
     ]
    },
    {
     "name": "stderr",
     "output_type": "stream",
     "text": [
      "C:\\Users\\Utilizador\\anaconda3\\envs\\env\\lib\\site-packages\\sklearn\\neural_network\\_multilayer_perceptron.py:585: ConvergenceWarning: Stochastic Optimizer: Maximum iterations (200) reached and the optimization hasn't converged yet.\n",
      "  % self.max_iter, ConvergenceWarning)\n"
     ]
    }
   ],
   "source": [
    "nn = NeuralNetwork(training, test,\"\")\n",
    "nn.fit()\n",
    "nn.predict()"
   ]
  },
  {
   "cell_type": "markdown",
   "metadata": {},
   "source": [
    "### Decision Tree"
   ]
  },
  {
   "cell_type": "code",
   "execution_count": 7,
   "metadata": {},
   "outputs": [
    {
     "name": "stdout",
     "output_type": "stream",
     "text": [
      "[[7960 4475]\n",
      " [1132 2714]]\n",
      "              precision    recall  f1-score   support\n",
      "\n",
      "           0       0.88      0.64      0.74     12435\n",
      "           1       0.38      0.71      0.49      3846\n",
      "\n",
      "    accuracy                           0.66     16281\n",
      "   macro avg       0.63      0.67      0.62     16281\n",
      "weighted avg       0.76      0.66      0.68     16281\n",
      "\n"
     ]
    }
   ],
   "source": [
    "dt = DecisionTree(training, test)\n",
    "dt.fit()\n",
    "dt.predict()"
   ]
  },
  {
   "cell_type": "markdown",
   "metadata": {},
   "source": [
    "## Ensemble Learner"
   ]
  },
  {
   "cell_type": "code",
   "execution_count": 8,
   "metadata": {},
   "outputs": [
    {
     "name": "stdout",
     "output_type": "stream",
     "text": [
      "[[9604 2831]\n",
      " [ 725 3121]]\n",
      "              precision    recall  f1-score   support\n",
      "\n",
      "           0       0.93      0.77      0.84     12435\n",
      "           1       0.52      0.81      0.64      3846\n",
      "\n",
      "    accuracy                           0.78     16281\n",
      "   macro avg       0.73      0.79      0.74     16281\n",
      "weighted avg       0.83      0.78      0.79     16281\n",
      "\n"
     ]
    }
   ],
   "source": [
    "el = EnsembleLearner(training, test)\n",
    "el.fit()\n",
    "el.predict()"
   ]
  },
  {
   "cell_type": "code",
   "execution_count": null,
   "metadata": {},
   "outputs": [],
   "source": []
  }
 ],
 "metadata": {
  "kernelspec": {
   "display_name": "Python 3",
   "language": "python",
   "name": "python3"
  },
  "language_info": {
   "codemirror_mode": {
    "name": "ipython",
    "version": 3
   },
   "file_extension": ".py",
   "mimetype": "text/x-python",
   "name": "python",
   "nbconvert_exporter": "python",
   "pygments_lexer": "ipython3",
   "version": "3.6.12"
  }
 },
 "nbformat": 4,
 "nbformat_minor": 4
}

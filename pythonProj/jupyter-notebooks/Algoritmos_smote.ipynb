{
 "cells": [
  {
   "cell_type": "markdown",
   "metadata": {},
   "source": [
    "# Algoritmos"
   ]
  },
  {
   "cell_type": "code",
   "execution_count": 1,
   "metadata": {},
   "outputs": [],
   "source": [
    "%run -i \"../algorithms/LogisticRegression.py\"\n",
    "%run -i \"../algorithms/SupportVectorMachines.py\"\n",
    "%run -i \"../algorithms/knn.py\"\n",
    "%run -i \"../algorithms/neuralNetwork.py\"\n",
    "%run -i \"../algorithms/decisionTree.py\""
   ]
  },
  {
   "cell_type": "markdown",
   "metadata": {},
   "source": [
    "#### Carregar datasets"
   ]
  },
  {
   "cell_type": "code",
   "execution_count": 2,
   "metadata": {},
   "outputs": [],
   "source": [
    "training = '../data/processedDataTraining_smote.csv'\n",
    "test = '../data/processedDataTest.csv'"
   ]
  },
  {
   "cell_type": "markdown",
   "metadata": {},
   "source": [
    "### Logistic Regression"
   ]
  },
  {
   "cell_type": "code",
   "execution_count": 3,
   "metadata": {},
   "outputs": [
    {
     "name": "stdout",
     "output_type": "stream",
     "text": [
      "[[11563   872]\n",
      " [ 2661  1185]]\n",
      "              precision    recall  f1-score   support\n",
      "\n",
      "           0       0.81      0.93      0.87     12435\n",
      "           1       0.58      0.31      0.40      3846\n",
      "\n",
      "    accuracy                           0.78     16281\n",
      "   macro avg       0.69      0.62      0.63     16281\n",
      "weighted avg       0.76      0.78      0.76     16281\n",
      "\n",
      "0.7829985873103618\n"
     ]
    }
   ],
   "source": [
    "lr = _LogisticRegression(training, test)\n",
    "lr.fit()\n",
    "lr.predict()"
   ]
  },
  {
   "cell_type": "markdown",
   "metadata": {},
   "source": [
    "### Support Vector Machine"
   ]
  },
  {
   "cell_type": "code",
   "execution_count": 4,
   "metadata": {},
   "outputs": [
    {
     "name": "stdout",
     "output_type": "stream",
     "text": [
      "[[12392    43]\n",
      " [ 3189   657]]\n",
      "              precision    recall  f1-score   support\n",
      "\n",
      "           0       0.80      1.00      0.88     12435\n",
      "           1       0.94      0.17      0.29      3846\n",
      "\n",
      "    accuracy                           0.80     16281\n",
      "   macro avg       0.87      0.58      0.59     16281\n",
      "weighted avg       0.83      0.80      0.74     16281\n",
      "\n"
     ]
    }
   ],
   "source": [
    "# VER PCA\n",
    "svm = SupportVectorMachines(training, test)\n",
    "svm.fit()\n",
    "svm.predict()"
   ]
  },
  {
   "cell_type": "markdown",
   "metadata": {},
   "source": [
    "### K-Nearest Neighboor"
   ]
  },
  {
   "cell_type": "code",
   "execution_count": 5,
   "metadata": {},
   "outputs": [
    {
     "name": "stdout",
     "output_type": "stream",
     "text": [
      "[[9723 2712]\n",
      " [2239 1607]]\n",
      "              precision    recall  f1-score   support\n",
      "\n",
      "           0       0.81      0.78      0.80     12435\n",
      "           1       0.37      0.42      0.39      3846\n",
      "\n",
      "    accuracy                           0.70     16281\n",
      "   macro avg       0.59      0.60      0.60     16281\n",
      "weighted avg       0.71      0.70      0.70     16281\n",
      "\n"
     ]
    }
   ],
   "source": [
    "knn = KNN(training, test)\n",
    "knn.fit(20)\n",
    "knn.predict()"
   ]
  },
  {
   "cell_type": "markdown",
   "metadata": {},
   "source": [
    "### Neural Networks"
   ]
  },
  {
   "cell_type": "code",
   "execution_count": 6,
   "metadata": {},
   "outputs": [
    {
     "name": "stdout",
     "output_type": "stream",
     "text": [
      "[[11399  1036]\n",
      " [ 2409  1437]]\n",
      "              precision    recall  f1-score   support\n",
      "\n",
      "           0       0.83      0.92      0.87     12435\n",
      "           1       0.58      0.37      0.45      3846\n",
      "\n",
      "    accuracy                           0.79     16281\n",
      "   macro avg       0.70      0.65      0.66     16281\n",
      "weighted avg       0.77      0.79      0.77     16281\n",
      "\n"
     ]
    }
   ],
   "source": [
    "nn = NeuralNetwork(training, test,\"\")\n",
    "nn.fit()\n",
    "nn.predict()"
   ]
  },
  {
   "cell_type": "markdown",
   "metadata": {},
   "source": [
    "### Decision Tree"
   ]
  },
  {
   "cell_type": "code",
   "execution_count": 7,
   "metadata": {},
   "outputs": [
    {
     "name": "stdout",
     "output_type": "stream",
     "text": [
      "[[9664 2771]\n",
      " [ 902 2944]]\n",
      "              precision    recall  f1-score   support\n",
      "\n",
      "           0       0.91      0.78      0.84     12435\n",
      "           1       0.52      0.77      0.62      3846\n",
      "\n",
      "    accuracy                           0.77     16281\n",
      "   macro avg       0.71      0.77      0.73     16281\n",
      "weighted avg       0.82      0.77      0.79     16281\n",
      "\n"
     ]
    }
   ],
   "source": [
    "dt = DecisionTree(training, test)\n",
    "dt.fit()\n",
    "dt.predict()"
   ]
  },
  {
   "cell_type": "code",
   "execution_count": null,
   "metadata": {},
   "outputs": [],
   "source": []
  }
 ],
 "metadata": {
  "kernelspec": {
   "display_name": "Python 3",
   "language": "python",
   "name": "python3"
  },
  "language_info": {
   "codemirror_mode": {
    "name": "ipython",
    "version": 3
   },
   "file_extension": ".py",
   "mimetype": "text/x-python",
   "name": "python",
   "nbconvert_exporter": "python",
   "pygments_lexer": "ipython3",
   "version": "3.8.3"
  }
 },
 "nbformat": 4,
 "nbformat_minor": 4
}

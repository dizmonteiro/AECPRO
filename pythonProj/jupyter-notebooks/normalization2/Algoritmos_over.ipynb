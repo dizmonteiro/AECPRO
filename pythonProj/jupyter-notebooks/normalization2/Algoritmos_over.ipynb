{
 "cells": [
  {
   "cell_type": "markdown",
   "metadata": {},
   "source": [
    "# Algoritmos"
   ]
  },
  {
   "cell_type": "code",
   "execution_count": 1,
   "metadata": {},
   "outputs": [],
   "source": [
    "%run -i \"../../algorithms/LogisticRegression.py\"\n",
    "%run -i \"../../algorithms/SupportVectorMachines.py\"\n",
    "%run -i \"../../algorithms/knn.py\"\n",
    "%run -i \"../../algorithms/neuralNetwork.py\"\n",
    "%run -i \"../../algorithms/decisionTree.py\"\n",
    "%run -i \"../../algorithms/ensembleLearner.py\""
   ]
  },
  {
   "cell_type": "markdown",
   "metadata": {},
   "source": [
    "#### Carregar datasets"
   ]
  },
  {
   "cell_type": "code",
   "execution_count": 2,
   "metadata": {},
   "outputs": [],
   "source": [
    "training = '../../data/normalization2/processedDataTraining_over.csv'\n",
    "test = '../../data/normalization2/processedDataTest.csv'"
   ]
  },
  {
   "cell_type": "markdown",
   "metadata": {},
   "source": [
    "### Logistic Regression"
   ]
  },
  {
   "cell_type": "code",
   "execution_count": 3,
   "metadata": {},
   "outputs": [
    {
     "name": "stdout",
     "output_type": "stream",
     "text": [
      "[[8318 4117]\n",
      " [ 429 3417]]\n",
      "              precision    recall  f1-score   support\n",
      "\n",
      "           0       0.95      0.67      0.79     12435\n",
      "           1       0.45      0.89      0.60      3846\n",
      "\n",
      "    accuracy                           0.72     16281\n",
      "   macro avg       0.70      0.78      0.69     16281\n",
      "weighted avg       0.83      0.72      0.74     16281\n",
      "\n",
      "0.7207788219396843\n"
     ]
    }
   ],
   "source": [
    "lr = _LogisticRegression(training, test)\n",
    "lr.fit()\n",
    "lr.predict()"
   ]
  },
  {
   "cell_type": "markdown",
   "metadata": {},
   "source": [
    "### Support Vector Machine"
   ]
  },
  {
   "cell_type": "code",
   "execution_count": 4,
   "metadata": {},
   "outputs": [
    {
     "name": "stdout",
     "output_type": "stream",
     "text": [
      "[[8730 3705]\n",
      " [ 588 3258]]\n",
      "              precision    recall  f1-score   support\n",
      "\n",
      "           0       0.94      0.70      0.80     12435\n",
      "           1       0.47      0.85      0.60      3846\n",
      "\n",
      "    accuracy                           0.74     16281\n",
      "   macro avg       0.70      0.77      0.70     16281\n",
      "weighted avg       0.83      0.74      0.76     16281\n",
      "\n"
     ]
    }
   ],
   "source": [
    "# VER PCA\n",
    "svm = SupportVectorMachines(training, test)\n",
    "svm.fit()\n",
    "svm.predict()"
   ]
  },
  {
   "cell_type": "markdown",
   "metadata": {},
   "source": [
    "### K-Nearest Neighboor"
   ]
  },
  {
   "cell_type": "code",
   "execution_count": 5,
   "metadata": {},
   "outputs": [
    {
     "name": "stdout",
     "output_type": "stream",
     "text": [
      "[[8847 3588]\n",
      " [ 626 3220]]\n",
      "              precision    recall  f1-score   support\n",
      "\n",
      "           0       0.93      0.71      0.81     12435\n",
      "           1       0.47      0.84      0.60      3846\n",
      "\n",
      "    accuracy                           0.74     16281\n",
      "   macro avg       0.70      0.77      0.71     16281\n",
      "weighted avg       0.83      0.74      0.76     16281\n",
      "\n"
     ]
    }
   ],
   "source": [
    "knn = KNN(training, test)\n",
    "knn.fit(20)\n",
    "knn.predict()"
   ]
  },
  {
   "cell_type": "markdown",
   "metadata": {},
   "source": [
    "### Neural Networks"
   ]
  },
  {
   "cell_type": "code",
   "execution_count": 6,
   "metadata": {},
   "outputs": [
    {
     "name": "stdout",
     "output_type": "stream",
     "text": [
      "[[6795 5640]\n",
      " [ 102 3744]]\n",
      "              precision    recall  f1-score   support\n",
      "\n",
      "           0       0.99      0.55      0.70     12435\n",
      "           1       0.40      0.97      0.57      3846\n",
      "\n",
      "    accuracy                           0.65     16281\n",
      "   macro avg       0.69      0.76      0.63     16281\n",
      "weighted avg       0.85      0.65      0.67     16281\n",
      "\n"
     ]
    }
   ],
   "source": [
    "nn = NeuralNetwork(training, test,\"\")\n",
    "nn.fit()\n",
    "nn.predict()"
   ]
  },
  {
   "cell_type": "markdown",
   "metadata": {},
   "source": [
    "### Decision Tree"
   ]
  },
  {
   "cell_type": "code",
   "execution_count": 7,
   "metadata": {},
   "outputs": [
    {
     "name": "stdout",
     "output_type": "stream",
     "text": [
      "[[8997 3438]\n",
      " [1702 2144]]\n",
      "              precision    recall  f1-score   support\n",
      "\n",
      "           0       0.84      0.72      0.78     12435\n",
      "           1       0.38      0.56      0.45      3846\n",
      "\n",
      "    accuracy                           0.68     16281\n",
      "   macro avg       0.61      0.64      0.62     16281\n",
      "weighted avg       0.73      0.68      0.70     16281\n",
      "\n"
     ]
    }
   ],
   "source": [
    "dt = DecisionTree(training, test)\n",
    "dt.fit()\n",
    "dt.predict()"
   ]
  },
  {
   "cell_type": "markdown",
   "metadata": {},
   "source": [
    "### Ensemble Learner"
   ]
  },
  {
   "cell_type": "code",
   "execution_count": 8,
   "metadata": {},
   "outputs": [
    {
     "name": "stdout",
     "output_type": "stream",
     "text": [
      "[[8042 4393]\n",
      " [ 360 3486]]\n",
      "              precision    recall  f1-score   support\n",
      "\n",
      "           0       0.96      0.65      0.77     12435\n",
      "           1       0.44      0.91      0.59      3846\n",
      "\n",
      "    accuracy                           0.71     16281\n",
      "   macro avg       0.70      0.78      0.68     16281\n",
      "weighted avg       0.84      0.71      0.73     16281\n",
      "\n"
     ]
    }
   ],
   "source": [
    "el = EnsembleLearner(training, test)\n",
    "el.fit()\n",
    "el.predict()"
   ]
  },
  {
   "cell_type": "code",
   "execution_count": null,
   "metadata": {},
   "outputs": [],
   "source": []
  }
 ],
 "metadata": {
  "kernelspec": {
   "display_name": "Python 3",
   "language": "python",
   "name": "python3"
  },
  "language_info": {
   "codemirror_mode": {
    "name": "ipython",
    "version": 3
   },
   "file_extension": ".py",
   "mimetype": "text/x-python",
   "name": "python",
   "nbconvert_exporter": "python",
   "pygments_lexer": "ipython3",
   "version": "3.6.12"
  }
 },
 "nbformat": 4,
 "nbformat_minor": 4
}
